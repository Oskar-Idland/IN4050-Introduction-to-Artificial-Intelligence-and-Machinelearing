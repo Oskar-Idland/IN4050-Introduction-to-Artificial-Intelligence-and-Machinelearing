{
 "cells": [
  {
   "cell_type": "markdown",
   "metadata": {},
   "source": [
    "# IN3050/IN4050 - Week 2\n",
    "## Representations"
   ]
  },
  {
   "cell_type": "markdown",
   "metadata": {},
   "source": [
    "### 1. ![Naming_Question](EA_Terms.png)"
   ]
  },
  {
   "cell_type": "markdown",
   "metadata": {},
   "source": [
    "Name the terms shown in the picture above."
   ]
  },
  {
   "cell_type": "markdown",
   "metadata": {},
   "source": [
    "# Add your solution here\n",
    "### A: Locus\n",
    "### B: Allele\n",
    "### C: Gene\n",
    "### D: Genotype\n",
    "### E: Phenotype"
   ]
  },
  {
   "cell_type": "markdown",
   "metadata": {},
   "source": [
    "### 2. Mention some of the most common representations of genomes."
   ]
  },
  {
   "cell_type": "markdown",
   "metadata": {},
   "source": [
    "Genomes are represented in binary, integers, permutation, tree, and real numbers"
   ]
  },
  {
   "cell_type": "markdown",
   "metadata": {},
   "source": [
    "### 3. Perform a mutation operation on the representations given below.\n",
    "\n",
    "binary = $[1, 0, 1, 1]$;\n",
    "integer = $[4, 2, 4, 1]$;\n",
    "real_valued = $[2.53, 1.42, 3.14, 1.68]$;\n",
    "permutation = $[3, 4, 1, 2]$"
   ]
  },
  {
   "cell_type": "code",
   "execution_count": 4,
   "metadata": {},
   "outputs": [],
   "source": [
    "b   = [1, 0, 1, 1]\n",
    "b_p = [1, 1, 1, 1]\n",
    "\n",
    "i   = [4, 2, 4, 1]\n",
    "i   = [0, 2, 4, 1]\n",
    "\n",
    "rv   = [2.53, 1.42, 3.14, 1.68] \n",
    "rv_p = [3.14, 1.68, 2.53, 1.42]"
   ]
  },
  {
   "cell_type": "markdown",
   "metadata": {},
   "source": [
    "### 4. Given the sequences (2,4,7,1,3,6,8,9,5) and (5,9,8,6,2,4,1,3,7). Implement these algorithms to create a new pair of solutions: "
   ]
  },
  {
   "cell_type": "markdown",
   "metadata": {},
   "source": [
    "#### a. Partially mapped crossover (PMX)"
   ]
  },
  {
   "cell_type": "code",
   "execution_count": 39,
   "metadata": {},
   "outputs": [
    {
     "name": "stdout",
     "output_type": "stream",
     "text": [
      "[5. 9. 4. 1. 3. 6. 8. 2. 7.]\n"
     ]
    }
   ],
   "source": [
    "# Add your solution here\n",
    "import numpy as np\n",
    "from typing import Iterable\n",
    "np.random.seed(42)   \n",
    "\n",
    "def pmx(p1: Iterable, p2: Iterable):\n",
    "    p1, p2 = np.array(p1), np.array(p2)\n",
    "    # Step 1\n",
    "    idx1 = np.random.randint(0, len(p1))\n",
    "    idx2 = np.random.randint(0, len(p1))\n",
    "    \n",
    "    while idx1 == idx2:\n",
    "        idx2 = np.random.randint(0, len(p1))\n",
    "    \n",
    "    if idx1 > idx2:\n",
    "        idx2, idx1 = idx1, idx2\n",
    "    \n",
    "    segment = slice(idx1, idx2+1)\n",
    "    # segment = slice(3,7) # Sanity check (lecture 3, slide 56)\n",
    "    \n",
    "    child = np.zeros(len(p1))\n",
    "    child[segment] = p1[segment]\n",
    "    \n",
    "    # Step 2\n",
    "    for gene1 in p1[segment]:\n",
    "        gene1_idx = np.where(p1 == gene1)\n",
    "        gene2 = p2[gene1_idx]\n",
    "        \n",
    "        if gene2 in child:\n",
    "            continue\n",
    "        \n",
    "        gene1_in_p2_idx = np.where(p2 == gene1)\n",
    "        while gene1 in p2[segment]:\n",
    "            gene1 = p1[gene1_in_p2_idx]\n",
    "            gene1_in_p2_idx = np.where(p2 == gene1)\n",
    "                \n",
    "        child[gene1_in_p2_idx] = gene2\n",
    "        \n",
    "    # Step 3\n",
    "    for idx, gene in enumerate(child):\n",
    "        if gene == 0:\n",
    "            child[idx] = p2[idx]\n",
    "            \n",
    "    return child    \n",
    "\n",
    "p1 = (2,4,7,1,3,6,8,9,5)\n",
    "p2 = (5,9,8,6,2,4,1,3,7)\n",
    "\n",
    "# Sanity check (lecture 3, slide 56)\n",
    "# p1 = (1,2,3,4,5,6,7,8,9)\n",
    "# p2 = (9,3,7,8,2,6,5,1,4)\n",
    "\n",
    "print(pmx(p1, p2))"
   ]
  },
  {
   "cell_type": "markdown",
   "metadata": {},
   "source": [
    "#### b. Order crossover"
   ]
  },
  {
   "cell_type": "code",
   "execution_count": 11,
   "metadata": {},
   "outputs": [],
   "source": [
    "# Add your solution here"
   ]
  },
  {
   "cell_type": "markdown",
   "metadata": {},
   "source": [
    "#### c. Cycle crossover"
   ]
  },
  {
   "cell_type": "code",
   "execution_count": 10,
   "metadata": {},
   "outputs": [],
   "source": [
    "# Add your solution here"
   ]
  },
  {
   "cell_type": "markdown",
   "metadata": {},
   "source": [
    "#### Test crossovers"
   ]
  },
  {
   "cell_type": "code",
   "execution_count": 13,
   "metadata": {},
   "outputs": [
    {
     "name": "stdout",
     "output_type": "stream",
     "text": [
      "Parents: [2, 4, 7, 1, 3, 6, 8, 9, 5] and [5, 9, 8, 6, 2, 4, 1, 3, 7]\n",
      "Children after PMX: None and None\n",
      "Children after Order Crossover: None and None\n",
      "Children after Cycle Crossover: None and None\n"
     ]
    }
   ],
   "source": [
    "a = [2, 4, 7, 1, 3, 6, 8, 9, 5]\n",
    "b = [5, 9, 8, 6, 2, 4, 1, 3, 7]\n",
    "c, d = pmx_pair(a, b)\n",
    "e, f = order_crossover_pair(a, b)\n",
    "g, h = cycle_crossover_pair(a, b)\n",
    "print(f\"Parents: {a} and {b}\")\n",
    "print(f\"Children after PMX: {c} and {d}\")\n",
    "print(f\"Children after Order Crossover: {e} and {f}\")\n",
    "print(f\"Children after Cycle Crossover: {g} and {h}\")"
   ]
  },
  {
   "cell_type": "code",
   "execution_count": null,
   "metadata": {},
   "outputs": [],
   "source": []
  }
 ],
 "metadata": {
  "kernelspec": {
   "display_name": "IN4050",
   "language": "python",
   "name": "python3"
  },
  "language_info": {
   "codemirror_mode": {
    "name": "ipython",
    "version": 3
   },
   "file_extension": ".py",
   "mimetype": "text/x-python",
   "name": "python",
   "nbconvert_exporter": "python",
   "pygments_lexer": "ipython3",
   "version": "3.12.8"
  }
 },
 "nbformat": 4,
 "nbformat_minor": 4
}
