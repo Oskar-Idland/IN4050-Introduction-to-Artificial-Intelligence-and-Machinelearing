{
 "cells": [
  {
   "cell_type": "markdown",
   "metadata": {},
   "source": [
    "# IN3050/IN4050 - Week 2\n",
    "## Representations"
   ]
  },
  {
   "cell_type": "markdown",
   "metadata": {},
   "source": [
    "### 1. ![Naming_Question](EA_Terms.png)"
   ]
  },
  {
   "cell_type": "markdown",
   "metadata": {},
   "source": [
    "Name the terms shown in the picture above."
   ]
  },
  {
   "cell_type": "markdown",
   "metadata": {},
   "source": [
    "# Add your solution here\n",
    "### A: Locus\n",
    "### B: Allele\n",
    "### C: Gene\n",
    "### D: Genotype\n",
    "### E: Phenotype"
   ]
  },
  {
   "cell_type": "markdown",
   "metadata": {},
   "source": [
    "### 2. Mention some of the most common representations of genomes."
   ]
  },
  {
   "cell_type": "markdown",
   "metadata": {},
   "source": [
    "Genomes are represented in binary, integers, permutation, tree, and real numbers"
   ]
  },
  {
   "cell_type": "markdown",
   "metadata": {},
   "source": [
    "### 3. Perform a mutation operation on the representations given below.\n",
    "\n",
    "binary = $[1, 0, 1, 1]$;\n",
    "integer = $[4, 2, 4, 1]$;\n",
    "real_valued = $[2.53, 1.42, 3.14, 1.68]$;\n",
    "permutation = $[3, 4, 1, 2]$"
   ]
  },
  {
   "cell_type": "code",
   "execution_count": 61,
   "metadata": {},
   "outputs": [],
   "source": [
    "b   = [1, 0, 1, 1]\n",
    "b_p = [1, 1, 1, 1]\n",
    "\n",
    "i   = [4, 2, 4, 1]\n",
    "i_p   = [0, 2, 4, 1]\n",
    "\n",
    "rv   = [2.53, 1.42, 3.14, 1.68] \n",
    "rv_p = [3.14, 1.68, 2.53, 1.42]"
   ]
  },
  {
   "cell_type": "markdown",
   "metadata": {},
   "source": [
    "### 4. Given the sequences (2,4,7,1,3,6,8,9,5) and (5,9,8,6,2,4,1,3,7). Implement these algorithms to create a new pair of solutions: "
   ]
  },
  {
   "cell_type": "markdown",
   "metadata": {},
   "source": [
    "#### a. Partially mapped crossover (PMX)"
   ]
  },
  {
   "cell_type": "code",
   "execution_count": 62,
   "metadata": {},
   "outputs": [
    {
     "name": "stdout",
     "output_type": "stream",
     "text": [
      "child1 = array([5., 9., 4., 1., 3., 6., 8., 2., 7.])\n",
      "child2 = array([9., 6., 7., 8., 2., 4., 1., 3., 5.])\n"
     ]
    }
   ],
   "source": [
    "# Add your solution here\n",
    "import numpy as np\n",
    "from typing import Iterable\n",
    "np.random.seed(42)   \n",
    "\n",
    "def pmx(p1: Iterable, p2: Iterable):\n",
    "    def procedure(p1: Iterable, p2: Iterable):\n",
    "        p1, p2 = np.array(p1), np.array(p2)\n",
    "        # Step 1\n",
    "        idx1 = np.random.randint(0, len(p1))\n",
    "        idx2 = np.random.randint(0, len(p1))\n",
    "        \n",
    "        while idx1 == idx2:\n",
    "            idx2 = np.random.randint(0, len(p1))\n",
    "        \n",
    "        if idx1 > idx2:\n",
    "            idx2, idx1 = idx1, idx2\n",
    "        \n",
    "        segment = slice(idx1, idx2+1)\n",
    "        # segment = slice(3,7) # Sanity check (lecture 3, slide 56)\n",
    "        \n",
    "        child = np.zeros(len(p1))\n",
    "        child[segment] = p1[segment]\n",
    "        \n",
    "        # Step 2\n",
    "        for gene1 in p1[segment]:\n",
    "            gene1_idx = np.where(p1 == gene1)\n",
    "            gene2 = p2[gene1_idx]\n",
    "            \n",
    "            if gene2 in child:\n",
    "                continue\n",
    "            \n",
    "            gene1_in_p2_idx = np.where(p2 == gene1)\n",
    "            while gene1 in p2[segment]:\n",
    "                gene1 = p1[gene1_in_p2_idx]\n",
    "                gene1_in_p2_idx = np.where(p2 == gene1)\n",
    "                    \n",
    "            child[gene1_in_p2_idx] = gene2\n",
    "            \n",
    "        # Step 3\n",
    "        for idx, gene in enumerate(child):\n",
    "            if gene == 0:\n",
    "                child[idx] = p2[idx]\n",
    "                \n",
    "        return child    \n",
    "    \n",
    "    child1 = procedure(p1, p2)\n",
    "    child2 = procedure(p2, p1)\n",
    "    \n",
    "    return child1, child2\n",
    "\n",
    "p1 = (2,4,7,1,3,6,8,9,5)\n",
    "p2 = (5,9,8,6,2,4,1,3,7)\n",
    "\n",
    "# Sanity check (lecture 3, slide 56)\n",
    "# p1 = (1,2,3,4,5,6,7,8,9)\n",
    "# p2 = (9,3,7,8,2,6,5,1,4)\n",
    "\n",
    "child1, child2 = pmx(p1, p2)\n",
    "print(f'{child1 = }')\n",
    "print(f'{child2 = }')"
   ]
  },
  {
   "cell_type": "markdown",
   "metadata": {},
   "source": [
    "#### b. Order crossover"
   ]
  },
  {
   "cell_type": "code",
   "execution_count": 63,
   "metadata": {},
   "outputs": [
    {
     "name": "stdout",
     "output_type": "stream",
     "text": [
      "child1 = array([9., 2., 4., 1., 3., 6., 8., 7., 5.])\n",
      "child2 = array([7., 6., 8., 9., 2., 4., 1., 3., 5.])\n"
     ]
    }
   ],
   "source": [
    "# Add your solution here\n",
    "import numpy as np\n",
    "from typing import Iterable\n",
    "np.random.seed(42)   \n",
    "\n",
    "def order_crossover(p1: Iterable, p2: Iterable):\n",
    "    def procedure(p1: Iterable, p2: Iterable):\n",
    "        p1, p2 = np.array(p1), np.array(p2)\n",
    "        # Step 1\n",
    "        idx1 = np.random.randint(0, len(p1))\n",
    "        idx2 = np.random.randint(0, len(p1))\n",
    "        \n",
    "        while idx1 == idx2:\n",
    "            idx2 = np.random.randint(0, len(p1))\n",
    "        \n",
    "        if idx1 > idx2:\n",
    "            idx2, idx1 = idx1, idx2\n",
    "        \n",
    "        segment = slice(idx1, idx2+1)\n",
    "        # segment = slice(3,7) # Sanity check (lecture 3, slide 61)\n",
    "        \n",
    "        child = np.zeros(len(p1))\n",
    "        child[segment] = p1[segment]\n",
    "        \n",
    "        # Step 2\n",
    "        child = np.roll(child, -idx2 - 1)\n",
    "        for gene in np.roll(p2, -idx2 - 1):\n",
    "            if gene not in child:\n",
    "                idx = np.where(child == 0)[0][0]\n",
    "                child[idx] = gene\n",
    "        \n",
    "        child = np.roll(child, idx2 + 1)\n",
    "        \n",
    "        return child \n",
    "    \n",
    "    child1 = procedure(p1, p2)\n",
    "    child2 = procedure(p2, p1)\n",
    "    \n",
    "    return child1, child2\n",
    "\n",
    "p1 = (2,4,7,1,3,6,8,9,5)\n",
    "p2 = (5,9,8,6,2,4,1,3,7)\n",
    "\n",
    "# Sanity check (lecture 3, slide 61)\n",
    "# p1 = (1,2,3,4,5,6,7,8,9)\n",
    "# p2 = (9,3,7,8,2,6,5,1,4)\n",
    "\n",
    "child1, child2 = order_crossover(p1, p2)\n",
    "print(f'{child1 = }')\n",
    "print(f'{child2 = }')"
   ]
  },
  {
   "cell_type": "markdown",
   "metadata": {},
   "source": [
    "#### c. Cycle crossover"
   ]
  },
  {
   "cell_type": "markdown",
   "metadata": {},
   "source": [
    "##### Original (incomplete)"
   ]
  },
  {
   "cell_type": "code",
   "execution_count": 64,
   "metadata": {},
   "outputs": [
    {
     "name": "stdout",
     "output_type": "stream",
     "text": [
      "post-prep\n",
      "child1 = array([0., 0., 0., 0., 0., 0., 0., 0., 9.])\n",
      "child2 = array([9., 0., 0., 0., 0., 0., 0., 0., 0.])\n",
      "\n",
      "prep done\n",
      "Child update\n",
      "child1 = array([0., 0., 0., 4., 0., 0., 0., 0., 9.])\n",
      "child2 = array([9., 0., 0., 4., 0., 0., 0., 0., 0.])\n",
      "\n",
      "Child update\n",
      "child1 = array([0., 0., 0., 4., 0., 0., 0., 8., 9.])\n",
      "child2 = array([9., 0., 0., 4., 0., 0., 0., 8., 0.])\n",
      "\n",
      "Child update\n",
      "child1 = array([1., 0., 0., 4., 0., 0., 0., 8., 9.])\n",
      "child2 = array([1., 0., 0., 4., 0., 0., 0., 8., 0.])\n",
      "\n",
      "While-loop Done\n",
      "child1 = array([1., 0., 0., 4., 0., 0., 0., 8., 9.])\n",
      "child2 = array([1., 0., 0., 4., 0., 0., 0., 8., 0.])\n",
      "\n",
      "---------------\n",
      "post-prep\n",
      "child1 = array([1., 0., 0., 4., 2., 0., 0., 8., 0.])\n",
      "child2 = array([1., 2., 0., 4., 0., 0., 0., 8., 9.])\n",
      "\n",
      "prep done\n",
      "Child update\n",
      "child1 = array([1., 0., 0., 4., 2., 0., 5., 8., 0.])\n",
      "child2 = array([1., 2., 0., 4., 0., 0., 5., 8., 9.])\n",
      "\n",
      "Child update\n",
      "child1 = array([1., 0., 7., 4., 2., 0., 5., 8., 0.])\n",
      "child2 = array([1., 2., 7., 4., 0., 0., 5., 8., 9.])\n",
      "\n",
      "Child update\n",
      "child1 = array([1., 3., 7., 4., 2., 0., 5., 8., 0.])\n",
      "child2 = array([1., 3., 7., 4., 0., 0., 5., 8., 9.])\n",
      "\n",
      "While-loop Done\n",
      "child1 = array([1., 3., 7., 4., 2., 0., 5., 8., 0.])\n",
      "child2 = array([1., 3., 7., 4., 0., 0., 5., 8., 9.])\n",
      "\n",
      "---------------\n"
     ]
    }
   ],
   "source": [
    "# Add your solution here\n",
    "import numpy as np\n",
    "from typing import Iterable\n",
    "\n",
    "def cycle_crossover(p1: Iterable, p2: Iterable):\n",
    "    p1, p2 = np.array(p1), np.array(p2)\n",
    "    child1, child2 = np.zeros(len(p1)), np.zeros(len(p1))\n",
    "    \n",
    "    for i in range(2):\n",
    "        gene1 = p1[i]\n",
    "        gene2 = p2[i]\n",
    "        if gene1 == gene2:\n",
    "            child1[i], child2[i] = gene1, gene2\n",
    "            continue\n",
    "        \n",
    "        first = gene1\n",
    "        idx1 = np.where(p1 == gene2)\n",
    "        idx2 = np.where(p2 == gene2)\n",
    "        \n",
    "        child1[idx1] = gene2\n",
    "        child2[idx2] = gene2\n",
    "        \n",
    "        gene1 = p1[idx1]\n",
    "        gene2 = p2[idx1]\n",
    "        \n",
    "        print(\"post-prep\")\n",
    "        print(f'{child1 = }')\n",
    "        print(f'{child2 = }\\n')\n",
    "        # print(f'{gene1, gene2}') \n",
    "        print('prep done')\n",
    "        while gene1 != first and not np.all(child1):\n",
    "            \n",
    "            idx1 = np.where(p1 == gene2)\n",
    "            idx2 = np.where(p2 == gene2)\n",
    "            \n",
    "            child1[idx1] = gene2\n",
    "            child2[idx1] = gene2\n",
    "            print('Child update')\n",
    "            print(f'{child1 = }')\n",
    "            print(f'{child2 = }\\n')    \n",
    "            \n",
    "            gene1 = p1[idx1]\n",
    "            gene2 = p2[idx1]\n",
    "                \n",
    "        print('While-loop Done')\n",
    "        print(f'{child1 = }')\n",
    "        print(f'{child2 = }\\n')\n",
    "        print('---------------')\n",
    "            \n",
    "        \n",
    "        p1, p2 = p2, p1\n",
    "        child1, child2 = child2, child1\n",
    "    return child1, child2\n",
    "\n",
    "# Sanity check (lecture 3, slide 63)\n",
    "p1 = (1,2,3,4,5,6,7,8,9)\n",
    "p2 = (9,3,7,8,2,6,5,1,4)\n",
    "\n",
    "child1, child2 = cycle_crossover(p1, p2)\n",
    "# print(f'{child1 = }')\n",
    "# print(f'{child2 = }')"
   ]
  },
  {
   "cell_type": "markdown",
   "metadata": {},
   "source": [
    "##### Works and follows instructions. Might need rewrite for arbitrary number of cycles"
   ]
  },
  {
   "cell_type": "code",
   "execution_count": 65,
   "metadata": {},
   "outputs": [
    {
     "name": "stdout",
     "output_type": "stream",
     "text": [
      "{8: 9, 3: 4, 7: 8, 0: 1}\n",
      "{2: 3, 6: 7, 4: 5, 1: 2}\n",
      "child1 = array([1., 2., 3., 4., 5., 6., 7., 8., 9.])\n",
      "child2 = array([9., 2., 3., 8., 5., 6., 7., 1., 4.])\n"
     ]
    }
   ],
   "source": [
    "import numpy as np\n",
    "from typing import Iterable\n",
    "\n",
    "def cycle_crossover(p1: Iterable, p2: Iterable):\n",
    "    p1, p2 = np.array(p1), np.array(p2)\n",
    "    # Step 1\n",
    "    \n",
    "    def id_cycle(p1: np.array, p2: np.array, start: int) -> dict:\n",
    "        # Start the cycle\n",
    "        allele = p1[start]\n",
    "        allele_adj = p2[start]\n",
    "        \n",
    "        idx = np.where(p1 == allele_adj)[0][0]\n",
    "        cycle = {}\n",
    "        cycle[idx] = p1[idx] # Could do \"... = allele_adj\"\n",
    "        \n",
    "        ## Continue the cycle\n",
    "        first = allele \n",
    "        allele = p1[idx]\n",
    "        allele_adj = p2[idx]\n",
    "        while allele != first:\n",
    "            idx = np.where(p1 == allele_adj)[0][0]\n",
    "            cycle[idx] = p1[idx]    \n",
    "            allele = p1[idx]\n",
    "            allele_adj = p2[idx]\n",
    "            \n",
    "            \n",
    "        return cycle\n",
    "\n",
    "    cycle1 = id_cycle(p1, p2, 0)\n",
    "    cycle2 = id_cycle(p1, p2, 1)\n",
    "    \n",
    "    # child1 = p1.copy()\n",
    "    # child2 = p2.copy()\n",
    "    child1 = np.zeros(len(p1))\n",
    "    child2 = np.zeros(len(p2))\n",
    "    \n",
    "    \n",
    "    print(cycle1)\n",
    "    print(cycle2)\n",
    "    # for (idx1, allele1), (idx2, allele2) in zip(cycle1.items(), cycle2.items()):\n",
    "    #     # TODO: Something wrong about child1, but this seems to follow the instructions???\n",
    "    #     print(idx1, allele1)\n",
    "    #     print(idx2, allele2)\n",
    "    #     print()\n",
    "    #     child1[idx1] = allele1\n",
    "    #     child2[idx2] = allele2\n",
    "        \n",
    "    # Is this reduntent when doing a copy? \n",
    "    # Adding the dark grey numbers\n",
    "    for idx, allele in cycle1.items():\n",
    "        child1[idx] = allele \n",
    "        child2[idx] = p2[idx]\n",
    "        \n",
    "    # Adding the white numbers\n",
    "    for idx, allele in cycle2.items():\n",
    "        child2[idx] = allele \n",
    "        child1[idx] = p1[idx]\n",
    "        \n",
    "    # Adding the red rumbers (a cycle of 1)\n",
    "    for idx in np.where(p1 == p2)[0]:\n",
    "        child1[idx] = p1[idx]\n",
    "        child2[idx] = p2[idx]\n",
    "            \n",
    "    \n",
    "    return child1, child2\n",
    "# Sanity check (lecture 3, slide 63)\n",
    "p1 = (1,2,3,4,5,6,7,8,9)\n",
    "p2 = (9,3,7,8,2,6,5,1,4)\n",
    "\n",
    "# cycle_crossover(p1, p2)\n",
    "child1, child2 = cycle_crossover(p1, p2)\n",
    "print(f'{child1 = }')\n",
    "print(f'{child2 = }')"
   ]
  },
  {
   "cell_type": "markdown",
   "metadata": {},
   "source": [
    "##### Hack"
   ]
  },
  {
   "cell_type": "code",
   "execution_count": 66,
   "metadata": {},
   "outputs": [
    {
     "name": "stdout",
     "output_type": "stream",
     "text": [
      "child1 = array([1, 3, 7, 4, 2, 6, 5, 8, 9])\n",
      "child2 = array([9, 2, 3, 8, 5, 6, 7, 1, 4])\n"
     ]
    }
   ],
   "source": [
    "import numpy as np\n",
    "from typing import Iterable\n",
    "\n",
    "def cycle_crossover(p1: Iterable, p2: Iterable):\n",
    "    p1, p2 = np.array(p1), np.array(p2)\n",
    "    # Step 1\n",
    "\n",
    "    # Start the cycle\n",
    "    allele = p1[1]\n",
    "    allele_adj = p2[1]\n",
    "    \n",
    "    idx = np.where(p1 == allele_adj)[0][0]\n",
    "    cycle_alt = [idx]\n",
    "    \n",
    "    ## Continue the cycle\n",
    "    first = allele \n",
    "    allele = p1[idx]\n",
    "    allele_adj = p2[idx]\n",
    "    while allele != first:\n",
    "        idx = np.where(p1 == allele_adj)[0][0]\n",
    "        cycle_alt.append(idx)   \n",
    "        allele = p1[idx]\n",
    "        allele_adj = p2[idx]\n",
    "        \n",
    "    \n",
    "    child1 = p1.copy()\n",
    "    child2 = p2.copy()\n",
    "    \n",
    "    for idx in cycle_alt:\n",
    "        child1[idx] = p2[idx]\n",
    "        child2[idx] = p1[idx]\n",
    "   \n",
    "    \n",
    "    return child1, child2\n",
    "# Sanity check (lecture 3, slide 63)\n",
    "p1 = (1,2,3,4,5,6,7,8,9)\n",
    "p2 = (9,3,7,8,2,6,5,1,4)\n",
    "\n",
    "# cycle_crossover(p1, p2)\n",
    "child1, child2 = cycle_crossover(p1, p2)\n",
    "print(f'{child1 = }')\n",
    "print(f'{child2 = }')"
   ]
  },
  {
   "cell_type": "markdown",
   "metadata": {},
   "source": [
    "#### Test crossovers"
   ]
  },
  {
   "cell_type": "code",
   "execution_count": 67,
   "metadata": {},
   "outputs": [
    {
     "name": "stdout",
     "output_type": "stream",
     "text": [
      "Parents: [2, 4, 7, 1, 3, 6, 8, 9, 5] and [5, 9, 8, 6, 2, 4, 1, 3, 7]\n",
      "Children after PMX: [5. 9. 7. 1. 3. 6. 8. 2. 4.] and [2. 4. 7. 8. 9. 6. 1. 3. 5.]\n",
      "Children after Order Crossover: [8. 6. 2. 1. 3. 4. 7. 5. 9.] and [7. 9. 8. 6. 2. 4. 1. 3. 5.]\n",
      "Children after Cycle Crossover: [5 9 8 6 2 4 1 3 7] and [2 4 7 1 3 6 8 9 5]\n"
     ]
    }
   ],
   "source": [
    "a = [2, 4, 7, 1, 3, 6, 8, 9, 5]\n",
    "b = [5, 9, 8, 6, 2, 4, 1, 3, 7]\n",
    "c, d = pmx(a, b)\n",
    "e, f = order_crossover(a, b)\n",
    "g, h = cycle_crossover(a, b)\n",
    "print(f\"Parents: {a} and {b}\")\n",
    "print(f\"Children after PMX: {c} and {d}\")\n",
    "print(f\"Children after Order Crossover: {e} and {f}\")\n",
    "print(f\"Children after Cycle Crossover: {g} and {h}\")"
   ]
  },
  {
   "cell_type": "code",
   "execution_count": null,
   "metadata": {},
   "outputs": [],
   "source": []
  }
 ],
 "metadata": {
  "kernelspec": {
   "display_name": "IN4050",
   "language": "python",
   "name": "python3"
  },
  "language_info": {
   "codemirror_mode": {
    "name": "ipython",
    "version": 3
   },
   "file_extension": ".py",
   "mimetype": "text/x-python",
   "name": "python",
   "nbconvert_exporter": "python",
   "pygments_lexer": "ipython3",
   "version": "3.12.8"
  }
 },
 "nbformat": 4,
 "nbformat_minor": 4
}
